{
 "cells": [
  {
   "cell_type": "code",
   "execution_count": 2,
   "metadata": {},
   "outputs": [
    {
     "name": "stdout",
     "output_type": "stream",
     "text": [
      "Requirement already satisfied: Quandl in c:\\users\\hp\\anaconda3\\lib\\site-packages (3.5.0)\n",
      "Requirement already satisfied: pandas>=0.14 in c:\\users\\hp\\anaconda3\\lib\\site-packages (from Quandl) (0.25.1)\n",
      "Requirement already satisfied: python-dateutil in c:\\users\\hp\\anaconda3\\lib\\site-packages (from Quandl) (2.8.0)\n",
      "Requirement already satisfied: more-itertools in c:\\users\\hp\\anaconda3\\lib\\site-packages (from Quandl) (7.2.0)\n",
      "Requirement already satisfied: numpy>=1.8 in c:\\users\\hp\\anaconda3\\lib\\site-packages (from Quandl) (1.16.5)\n",
      "Requirement already satisfied: requests>=2.7.0 in c:\\users\\hp\\anaconda3\\lib\\site-packages (from Quandl) (2.22.0)\n",
      "Requirement already satisfied: inflection>=0.3.1 in c:\\users\\hp\\anaconda3\\lib\\site-packages (from Quandl) (0.4.0)\n",
      "Requirement already satisfied: six in c:\\users\\hp\\anaconda3\\lib\\site-packages (from Quandl) (1.12.0)\n",
      "Requirement already satisfied: pytz>=2017.2 in c:\\users\\hp\\anaconda3\\lib\\site-packages (from pandas>=0.14->Quandl) (2019.3)\n",
      "Requirement already satisfied: certifi>=2017.4.17 in c:\\users\\hp\\anaconda3\\lib\\site-packages (from requests>=2.7.0->Quandl) (2019.9.11)\n",
      "Requirement already satisfied: chardet<3.1.0,>=3.0.2 in c:\\users\\hp\\anaconda3\\lib\\site-packages (from requests>=2.7.0->Quandl) (3.0.4)\n",
      "Requirement already satisfied: urllib3!=1.25.0,!=1.25.1,<1.26,>=1.21.1 in c:\\users\\hp\\anaconda3\\lib\\site-packages (from requests>=2.7.0->Quandl) (1.24.2)\n",
      "Requirement already satisfied: idna<2.9,>=2.5 in c:\\users\\hp\\anaconda3\\lib\\site-packages (from requests>=2.7.0->Quandl) (2.8)\n",
      "Note: you may need to restart the kernel to use updated packages.\n"
     ]
    }
   ],
   "source": [
    "pip install Quandl"
   ]
  },
  {
   "cell_type": "code",
   "execution_count": 6,
   "metadata": {},
   "outputs": [],
   "source": [
    "import pandas as pd\n",
    "import quandl\n",
    "quandl.ApiConfig.api_key ='yvpoDu9Fi33_7zD5YWHm'"
   ]
  },
  {
   "cell_type": "code",
   "execution_count": 11,
   "metadata": {},
   "outputs": [
    {
     "name": "stdout",
     "output_type": "stream",
     "text": [
      "<bound method NDFrame.head of                Open     High      Low     Close      Volume  Ex-Dividend  \\\n",
      "Date                                                                       \n",
      "2004-08-19   100.01   104.06    95.96   100.335  44659000.0          0.0   \n",
      "2004-08-20   101.01   109.08   100.50   108.310  22834300.0          0.0   \n",
      "2004-08-23   110.76   113.48   109.05   109.400  18256100.0          0.0   \n",
      "2004-08-24   111.24   111.60   103.57   104.870  15247300.0          0.0   \n",
      "2004-08-25   104.76   108.00   103.88   106.000   9188600.0          0.0   \n",
      "...             ...      ...      ...       ...         ...          ...   \n",
      "2018-03-21  1092.57  1108.70  1087.21  1094.000   1990515.0          0.0   \n",
      "2018-03-22  1080.01  1083.92  1049.64  1053.150   3418154.0          0.0   \n",
      "2018-03-23  1051.37  1066.78  1024.87  1026.550   2413517.0          0.0   \n",
      "2018-03-26  1050.60  1059.27  1010.58  1054.090   3272409.0          0.0   \n",
      "2018-03-27  1063.90  1064.54   997.62  1006.940   2940957.0          0.0   \n",
      "\n",
      "            Split Ratio    Adj. Open    Adj. High     Adj. Low   Adj. Close  \\\n",
      "Date                                                                          \n",
      "2004-08-19          1.0    50.159839    52.191109    48.128568    50.322842   \n",
      "2004-08-20          1.0    50.661387    54.708881    50.405597    54.322689   \n",
      "2004-08-23          1.0    55.551482    56.915693    54.693835    54.869377   \n",
      "2004-08-24          1.0    55.792225    55.972783    51.945350    52.597363   \n",
      "2004-08-25          1.0    52.542193    54.167209    52.100830    53.164113   \n",
      "...                 ...          ...          ...          ...          ...   \n",
      "2018-03-21          1.0  1092.570000  1108.700000  1087.210000  1094.000000   \n",
      "2018-03-22          1.0  1080.010000  1083.920000  1049.640000  1053.150000   \n",
      "2018-03-23          1.0  1051.370000  1066.780000  1024.870000  1026.550000   \n",
      "2018-03-26          1.0  1050.600000  1059.270000  1010.580000  1054.090000   \n",
      "2018-03-27          1.0  1063.900000  1064.540000   997.620000  1006.940000   \n",
      "\n",
      "            Adj. Volume  \n",
      "Date                     \n",
      "2004-08-19   44659000.0  \n",
      "2004-08-20   22834300.0  \n",
      "2004-08-23   18256100.0  \n",
      "2004-08-24   15247300.0  \n",
      "2004-08-25    9188600.0  \n",
      "...                 ...  \n",
      "2018-03-21    1990515.0  \n",
      "2018-03-22    3418154.0  \n",
      "2018-03-23    2413517.0  \n",
      "2018-03-26    3272409.0  \n",
      "2018-03-27    2940957.0  \n",
      "\n",
      "[3424 rows x 12 columns]>\n"
     ]
    }
   ],
   "source": [
    "data=quandl.get('WIKI/GOOGL')\n",
    "print(data.head)"
   ]
  },
  {
   "cell_type": "code",
   "execution_count": 12,
   "metadata": {
    "scrolled": true
   },
   "outputs": [
    {
     "name": "stdout",
     "output_type": "stream",
     "text": [
      "            Adj. Close  high_low_pt  open_close_pt  Adj. Volume\n",
      "Date                                                           \n",
      "2004-08-19   50.322842   -47.808891     -49.677158   44659000.0\n",
      "2004-08-20   54.322689   -45.291119     -45.677311   22834300.0\n",
      "2004-08-23   54.869377   -43.084307     -45.130623   18256100.0\n",
      "2004-08-24   52.597363   -44.027217     -47.402637   15247300.0\n",
      "2004-08-25   53.164113   -45.832791     -46.835887    9188600.0\n"
     ]
    }
   ],
   "source": [
    "#adjusted values gives more accurate reflection of stock prices\n",
    "#considering meaningful features\n",
    "data['high_low_pt']=data['Adj. High']-data['Adj. Low']/data['Adj. Low']*100\n",
    "data['open_close_pt']=data['Adj. Close']-data['Adj. Open']/data['Adj. Open']*100\n",
    "data=data[['Adj. Close','high_low_pt','open_close_pt','Adj. Volume']]\n",
    "print(data.head())"
   ]
  },
  {
   "cell_type": "code",
   "execution_count": 31,
   "metadata": {},
   "outputs": [
    {
     "name": "stdout",
     "output_type": "stream",
     "text": [
      "3309\n",
      "3305\n",
      "4\n",
      "            Adj. Close  high_low_pt  open_close_pt  Adj. Volume      label\n",
      "Date                                                                      \n",
      "2004-08-19   50.322842   -47.808891     -49.677158   44659000.0  53.164113\n",
      "2004-08-20   54.322689   -45.291119     -45.677311   22834300.0  54.122070\n",
      "2004-08-23   54.869377   -43.084307     -45.130623   18256100.0  53.239345\n",
      "2004-08-24   52.597363   -44.027217     -47.402637   15247300.0  51.162935\n",
      "2004-08-25   53.164113   -45.832791     -46.835887    9188600.0  51.343492\n"
     ]
    }
   ],
   "source": [
    "import math\n",
    "x='Adj. Close'\n",
    "data.fillna(data.mean(),inplace=True)\n",
    "sh=math.ceil(0.001*len(data))\n",
    "data['label']=data[x].shift(-sh)\n",
    "print(len(data))\n",
    "data.dropna(inplace=True)\n",
    "print(len(data))\n",
    "print(sh)\n",
    "print(data.head())\n"
   ]
  },
  {
   "cell_type": "code",
   "execution_count": 32,
   "metadata": {},
   "outputs": [],
   "source": [
    "from sklearn import preprocessing,svm\n",
    "from sklearn.model_selection import cross_validate, train_test_split\n",
    "from sklearn.linear_model import LinearRegression\n"
   ]
  },
  {
   "cell_type": "code",
   "execution_count": 33,
   "metadata": {},
   "outputs": [],
   "source": [
    "data=data[['Adj. Close','high_low_pt','open_close_pt','Adj. Volume','label']]\n",
    "import numpy as np\n",
    "X=np.array(data.drop(['label'],1))\n",
    "y=np.array(data['label'])"
   ]
  },
  {
   "cell_type": "code",
   "execution_count": 34,
   "metadata": {},
   "outputs": [],
   "source": [
    "#normalization\n",
    "#zero mean and unit variance\n",
    "X=preprocessing.scale(X)"
   ]
  },
  {
   "cell_type": "code",
   "execution_count": 71,
   "metadata": {},
   "outputs": [
    {
     "name": "stderr",
     "output_type": "stream",
     "text": [
      "C:\\Users\\HP\\Anaconda3\\lib\\site-packages\\sklearn\\svm\\base.py:193: FutureWarning: The default value of gamma will change from 'auto' to 'scale' in version 0.22 to account better for unscaled features. Set gamma explicitly to 'auto' or 'scale' to avoid this warning.\n",
      "  \"avoid this warning.\", FutureWarning)\n"
     ]
    },
    {
     "name": "stdout",
     "output_type": "stream",
     "text": [
      "0.6585996293863774\n"
     ]
    }
   ],
   "source": [
    "clf=svm.SVR(kernel='poly')\n",
    "clf.fit(X_train,y_train)\n",
    "accuracy=clf.score(X_test,y_test)\n",
    "print(accuracy)"
   ]
  },
  {
   "cell_type": "code",
   "execution_count": null,
   "metadata": {},
   "outputs": [],
   "source": []
  }
 ],
 "metadata": {
  "kernelspec": {
   "display_name": "Python 3",
   "language": "python",
   "name": "python3"
  },
  "language_info": {
   "codemirror_mode": {
    "name": "ipython",
    "version": 3
   },
   "file_extension": ".py",
   "mimetype": "text/x-python",
   "name": "python",
   "nbconvert_exporter": "python",
   "pygments_lexer": "ipython3",
   "version": "3.7.4"
  }
 },
 "nbformat": 4,
 "nbformat_minor": 2
}
